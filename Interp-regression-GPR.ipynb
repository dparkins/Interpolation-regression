{
 "cells": [
  {
   "cell_type": "markdown",
   "metadata": {
    "deletable": true,
    "editable": true
   },
   "source": [
    "# Interpolation and regression\n",
    "\n",
    "Requirements for this notebook:\n",
    "* python\n",
    "* jupyter\n",
    "* numpy\n",
    "* scipy\n",
    "* random\n",
    "* matplotlib\n",
    "* scikit-learn\n"
   ]
  },
  {
   "cell_type": "code",
   "execution_count": 1,
   "metadata": {
    "collapsed": true,
    "deletable": true,
    "editable": true
   },
   "outputs": [],
   "source": [
    "import random\n",
    "from matplotlib import pyplot as plt\n",
    "import numpy as np"
   ]
  },
  {
   "cell_type": "markdown",
   "metadata": {
    "deletable": true,
    "editable": true
   },
   "source": [
    "## Non-parametric models\n",
    "\n",
    "When people talk about non-parametric models, they really mean models where the number of parameters can grow with the number of data points (i.e. 'infinite parametric' models). We will start with the classic example of interpolation in one-dimension, which is cubic spline, before moving on to Gaussian Process Regression.\n",
    "\n",
    "### Cubic spline\n",
    "\n",
    "We will start with a very complex model for the data, that cannot be represented by a simple polynomial."
   ]
  },
  {
   "cell_type": "code",
   "execution_count": 2,
   "metadata": {
    "collapsed": true,
    "deletable": true,
    "editable": true
   },
   "outputs": [],
   "source": [
    "import math\n",
    "def model_complex(x_in,params):\n",
    "    \"\"\"output a value y for a given input x\"\"\"\n",
    "    n=len(params)\n",
    "    y = 0.\n",
    "    for i in range(0,n):\n",
    "      if math.fmod(i,2) == 0:\n",
    "        y = y + params[i]*math.sin(float(i)*x_in+params[i+1])\n",
    "      else:\n",
    "        y = y\n",
    "\n",
    "    return y"
   ]
  },
  {
   "cell_type": "markdown",
   "metadata": {
    "deletable": true,
    "editable": true
   },
   "source": [
    "We once again generate the parameter values randomly, though this model will have 10 input parameters. For the sake of simplicity, this time we will not add any dispersion to the data."
   ]
  },
  {
   "cell_type": "code",
   "execution_count": 3,
   "metadata": {
    "collapsed": false,
    "deletable": true,
    "editable": true
   },
   "outputs": [
    {
     "data": {
      "text/plain": [
       "<matplotlib.text.Text at 0x11a7c0898>"
      ]
     },
     "execution_count": 3,
     "metadata": {},
     "output_type": "execute_result"
    },
    {
     "data": {
      "image/png": "[encoded data removed]",
      "text/plain": [
       "<matplotlib.figure.Figure at 0x10857b128>"
      ]
     },
     "metadata": {},
     "output_type": "display_data"
    }
   ],
   "source": [
    "random.seed()\n",
    "\n",
    "n_params = 10\n",
    "params = np.zeros(n_params)\n",
    "for i in range(0,n_params):\n",
    "    params[i] = random.uniform(-1,1)\n",
    "\n",
    "n_points=10\n",
    "x_complex = np.zeros(n_points)\n",
    "y_complex = np.zeros(n_points)\n",
    "for i in range(0,n_points):\n",
    "    x_complex[i] = random.uniform(-1,1)\n",
    "    y_complex[i] = model_complex(x_complex[i],params)\n",
    "\n",
    "# make sure figures appear inline in Ipython Notebook\n",
    "%matplotlib inline\n",
    "plt.subplot(1,1,1)\n",
    "\n",
    "h0 = plt.plot(x_complex,y_complex,linestyle='None',marker='s')\n",
    "lab_fontsize = 14\n",
    "plt.ylabel('y',fontsize=lab_fontsize)\n",
    "plt.xlabel('x',fontsize=lab_fontsize)"
   ]
  },
  {
   "cell_type": "markdown",
   "metadata": {
    "deletable": true,
    "editable": true
   },
   "source": [
    "We see three inflection points (by eye), so we can try fitting this data, with (for example) a fourth-order polynomial, just to see what happens."
   ]
  },
  {
   "cell_type": "code",
   "execution_count": 7,
   "metadata": {
    "collapsed": false,
    "deletable": true,
    "editable": true
   },
   "outputs": [
    {
     "data": {
      "text/plain": [
       "<matplotlib.text.Text at 0x11e1be4e0>"
      ]
     },
     "execution_count": 7,
     "metadata": {},
     "output_type": "execute_result"
    },
    {
     "data": {
      "image/png": "[encoded data removed]",
      "text/plain": [
       "<matplotlib.figure.Figure at 0x11dbcdb38>"
      ]
     },
     "metadata": {},
     "output_type": "display_data"
    }
   ],
   "source": [
    "z = np.polyfit(x_complex, y_complex, 4)\n",
    "\n",
    "p = np.poly1d(z)\n",
    "x_out_complex=np.arange(-1,1.,0.001)\n",
    "y_out_complex=[]\n",
    "for i in range(0,len(x_out_complex)):\n",
    "    y_out_complex.append(p(x_out_complex[i]))\n",
    "\n",
    "# make sure figures appear inline in Ipython Notebook\n",
    "%matplotlib inline\n",
    "plt.subplot(1,1,1)\n",
    "\n",
    "h0 = plt.plot(x_complex,y_complex,linestyle='None',marker='s')\n",
    "h1 = plt.plot(x_out_complex,y_out_complex,'-r')\n",
    "plt.ylim([-1.5,1.5])\n",
    "plt.ylabel('y',fontsize=lab_fontsize)\n",
    "plt.xlabel('x',fontsize=lab_fontsize)"
   ]
  },
  {
   "cell_type": "markdown",
   "metadata": {
    "deletable": true,
    "editable": true
   },
   "source": [
    "How would it perform if we fitted to a higher-order polynomial? We have 10 data points, so we could increase to the maximum, which is 10."
   ]
  },
  {
   "cell_type": "code",
   "execution_count": 8,
   "metadata": {
    "collapsed": false,
    "deletable": true,
    "editable": true
   },
   "outputs": [
    {
     "name": "stderr",
     "output_type": "stream",
     "text": [
      "/Users/davidparkinson/Library/Enthought/Canopy/edm/envs/User/lib/python3.5/site-packages/ipykernel/__main__.py:1: RankWarning: Polyfit may be poorly conditioned\n",
      "  if __name__ == '__main__':\n"
     ]
    },
    {
     "data": {
      "text/plain": [
       "<matplotlib.text.Text at 0x11dd179b0>"
      ]
     },
     "execution_count": 8,
     "metadata": {},
     "output_type": "execute_result"
    },
    {
     "data": {
      "image/png": "[encoded data removed]",
      "text/plain": [
       "<matplotlib.figure.Figure at 0x11db2f2b0>"
      ]
     },
     "metadata": {},
     "output_type": "display_data"
    }
   ],
   "source": [
    "z = np.polyfit(x_complex, y_complex, 10)\n",
    "\n",
    "p_10 = np.poly1d(z)\n",
    "y_out_p_10=[]\n",
    "for i in range(0,len(x_out_complex)):\n",
    "    y_out_p_10.append(p_10(x_out_complex[i]))\n",
    "\n",
    "# make sure figures appear inline in Ipython Notebook\n",
    "%matplotlib inline\n",
    "plt.subplot(1,1,1)\n",
    "\n",
    "h0 = plt.plot(x_complex,y_complex,linestyle='None',marker='s')\n",
    "h1 = plt.plot(x_out_complex,y_out_p_10,'-r')\n",
    "plt.ylim([-1.5,1.5])\n",
    "plt.ylabel('y',fontsize=lab_fontsize)\n",
    "plt.xlabel('x',fontsize=lab_fontsize)"
   ]
  },
  {
   "cell_type": "markdown",
   "metadata": {
    "deletable": true,
    "editable": true
   },
   "source": [
    "Here we get a warning because we are trying to fit 10 parameters with 10 data points. But the curve does pass through all the data points."
   ]
  },
  {
   "cell_type": "markdown",
   "metadata": {
    "deletable": true,
    "editable": true
   },
   "source": [
    "Instead, if we really don't care about what model we are using, and are happy for it to increase in dimensionality with the number of data points, we can use [cubic spline](https://docs.scipy.org/doc/scipy/reference/generated/scipy.interpolate.interp1d.html) here to interpolate between the data points. "
   ]
  },
  {
   "cell_type": "code",
   "execution_count": 9,
   "metadata": {
    "collapsed": false,
    "deletable": true,
    "editable": true
   },
   "outputs": [
    {
     "name": "stdout",
     "output_type": "stream",
     "text": [
      "146 146\n"
     ]
    },
    {
     "data": {
      "text/plain": [
       "<matplotlib.text.Text at 0x11fd03cf8>"
      ]
     },
     "execution_count": 9,
     "metadata": {},
     "output_type": "execute_result"
    },
    {
     "data": {
      "image/png": "[encoded data removed]",
      "text/plain": [
       "<matplotlib.figure.Figure at 0x11e2f82e8>"
      ]
     },
     "metadata": {},
     "output_type": "display_data"
    }
   ],
   "source": [
    "import scipy.interpolate\n",
    "\n",
    "f = scipy.interpolate.interp1d(x_complex,y_complex,kind='cubic')\n",
    "y_out_spline =[]\n",
    "x_out_spline = np.arange(min(x_complex),max(x_complex),0.01)\n",
    "for i in range(0,len(x_out_spline)):\n",
    "    y_out_spline.append(f(x_out_spline[i]))\n",
    "\n",
    "print(len(x_out_spline),len(y_out_spline))\n",
    "# make sure figures appear inline in Ipython Notebook\n",
    "%matplotlib inline\n",
    "plt.subplot(1,1,1)\n",
    "\n",
    "h0 = plt.plot(x_complex,y_complex,linestyle='None',marker='s')\n",
    "h1 = plt.plot(x_out_complex,y_out_complex,'-r')\n",
    "h2 = plt.plot(x_out_spline,y_out_spline,':r')\n",
    "plt.ylim([-1.5,1.5])\n",
    "plt.ylabel('y',fontsize=lab_fontsize)\n",
    "plt.xlabel('x',fontsize=lab_fontsize)"
   ]
  },
  {
   "cell_type": "markdown",
   "metadata": {
    "deletable": true,
    "editable": true
   },
   "source": [
    "This goes through all the data points sucessfully, and is very smooth. In fact it gives roughly the same behaviour as the fourth-order polynomial. Notice also that it doesn't contain some of the oscillatory features that the 10th order polynomial does.\n",
    "\n",
    "This disadvantage of cubic spline is that we cannot make a prediction outside of the range given by the range of $x$ values, and there is no common way to propagate any measurment errors we have forward to the predictions between the specific x-values. "
   ]
  },
  {
   "cell_type": "markdown",
   "metadata": {
    "deletable": true,
    "editable": true
   },
   "source": [
    "### Gaussian Process Regression\n",
    "\n",
    "Now we turn to Gaussian Processes in python. We make use of the implementation in the [scikit-learn](http://scikit-learn.org/stable/documentation.html) package.\n",
    "\n",
    "We start by initialising the type of GP we will be using."
   ]
  },
  {
   "cell_type": "code",
   "execution_count": 14,
   "metadata": {
    "collapsed": false,
    "deletable": true,
    "editable": true
   },
   "outputs": [],
   "source": [
    "from sklearn.gaussian_process import GaussianProcessRegressor, kernels\n",
    "\n",
    "kernel = kernels.RBF(length_scale=2.0, length_scale_bounds=(0.1, 10.0))\n",
    "\n",
    "gp = GaussianProcessRegressor(kernel=kernel)"
   ]
  },
  {
   "cell_type": "markdown",
   "metadata": {
    "deletable": true,
    "editable": true
   },
   "source": [
    "Here the kernel describes the covariance function. Here we have picked a Radial Basis Function, with form\n",
    "\n",
    "\\begin{equation}\n",
    "\\rm{cov}(f(x_i),f(x_j))=k(x_i,x_j)=\\exp\\left(-\\frac12|x_i-x_j|^2\\right)\n",
    "\\end{equation}\n",
    "\n",
    "In [Rasmussen and Williams](http://www.gaussianprocess.org/gpml/) they refer to this the *squared exponential* covariance function, but it is the same."
   ]
  },
  {
   "cell_type": "code",
   "execution_count": 15,
   "metadata": {
    "collapsed": false,
    "deletable": true,
    "editable": true
   },
   "outputs": [
    {
     "name": "stderr",
     "output_type": "stream",
     "text": [
      "/Users/davidparkinson/Library/Enthought/Canopy/edm/envs/User/lib/python3.5/site-packages/sklearn/gaussian_process/gpr.py:335: UserWarning: Predicted variances smaller than 0. Setting those variances to 0.\n",
      "  warnings.warn(\"Predicted variances smaller than 0. \"\n"
     ]
    }
   ],
   "source": [
    "xprime = np.atleast_2d(x_complex).T\n",
    "yprime = np.atleast_2d(y_complex).T\n",
    "gp.fit(xprime, yprime)\n",
    "y_pred, sigma = gp.predict(x_out_complex[:, np.newaxis], return_std=True)"
   ]
  },
  {
   "cell_type": "markdown",
   "metadata": {
    "deletable": true,
    "editable": true
   },
   "source": [
    "The array containing the predicted values for $y$ from the Gaussian Process will be two dimensional, which isn't helpful for us, so we need to [flatten](https://docs.scipy.org/doc/numpy/reference/generated/numpy.ndarray.flatten.html) it."
   ]
  },
  {
   "cell_type": "code",
   "execution_count": 16,
   "metadata": {
    "collapsed": false,
    "deletable": true,
    "editable": true
   },
   "outputs": [],
   "source": [
    "y_pred = y_pred.flatten()"
   ]
  },
  {
   "cell_type": "markdown",
   "metadata": {
    "deletable": true,
    "editable": true
   },
   "source": [
    "Now we can plot the prediction from the GP (which is much the same as the cubic spline prediction), with the precited 1-sigma error ranges for $y$."
   ]
  },
  {
   "cell_type": "code",
   "execution_count": 17,
   "metadata": {
    "collapsed": false,
    "deletable": true,
    "editable": true
   },
   "outputs": [
    {
     "data": {
      "text/plain": [
       "<matplotlib.text.Text at 0x120669668>"
      ]
     },
     "execution_count": 17,
     "metadata": {},
     "output_type": "execute_result"
    },
    {
     "data": {
      "image/png": "[encoded data removed]",
      "text/plain": [
       "<matplotlib.figure.Figure at 0x121b2b748>"
      ]
     },
     "metadata": {},
     "output_type": "display_data"
    }
   ],
   "source": [
    "# make sure figures appear inline in Ipython Notebook\n",
    "%matplotlib inline\n",
    "ax = plt.subplot(1,1,1)\n",
    "\n",
    "h0 = plt.plot(x_complex,y_complex,linestyle='None',marker='s',color='black')\n",
    "h1 = plt.plot(x_out_complex,y_pred,label='gaussian process')\n",
    "plt.fill_between(x_out_complex, y_pred - sigma, y_pred + sigma,alpha=0.5, color='k')\n",
    "h2 = plt.plot(x_out_spline,y_out_spline,':r',label='cubic spline')\n",
    "handles, labels = ax.get_legend_handles_labels()\n",
    "plt.legend(handles=handles,frameon=False,loc=2)\n",
    "\n",
    "plt.ylabel('y',fontsize=lab_fontsize)\n",
    "plt.xlabel('x',fontsize=lab_fontsize)"
   ]
  },
  {
   "cell_type": "markdown",
   "metadata": {
    "collapsed": true,
    "deletable": true,
    "editable": true
   },
   "source": [
    "#### Choice of kernel\n",
    "\n",
    "There are a number of different kernels that can be chosen. Scikit-learn has the following implemented\n",
    "\n",
    "* RBF\n",
    "\\begin{equation}\n",
    "k_{\\rm RBF}(r)=\\exp\\left(-\\frac{r^2}{2\\ell^2}\\right)\n",
    "\\end{equation}\n",
    "\n",
    "* Matern\n",
    "\n",
    "\\begin{equation}\n",
    "k_{\\rm{Matern}}(r)=\\frac{2^{1-\\nu}}{\\Gamma(\\nu)}\\left(\\frac{\\sqrt{2\\nu}r}{\\ell}\\right)K_\\nu\\left(\\frac{\\sqrt{2\\nu}r}{\\ell}\\right) \\,,\n",
    "\\end{equation}\n",
    "with positive $\\nu$ and $\\ell$, and $K_\\nu$ is a modified Bessel function.\n",
    "\n",
    "* RationalQuadratic\n",
    "\n",
    "\\begin{equation}\n",
    "k_{\\rm RQ}(r)=\\left(1+\\frac{r^2}{2\\alpha\\ell^2}\\right)\n",
    "\\end{equation}\n",
    "with $\\alpha$, $\\ell>0$.\n",
    "\n",
    "* ExpSineSquared\n",
    "\\begin{equation}\n",
    "k_{\\rm ESS}(r)=\\exp\\left(-\\frac{2\\sin^2(r)}{\\ell^2}\\right)\\,,\n",
    "\\end{equation}\n",
    "which is the same as the RBF kernel, except the one-dimensional input variable $r$ is mapped to the two-dimensional $u(r) = (cos(r),sin(r))$\n",
    "\n",
    "* DotProduct\n",
    "\\begin{equation}\n",
    "k_{\\rm{DP}}(x,x') = (x\\cdot x')^p\n",
    "\\end{equation}\n",
    "This is equivalent to linear ($p=1$) or polynomial ($p>1$) regression, which I discussed earlier.\n",
    "\n",
    "* ConstantKernel\n",
    "\\begin{equation}\n",
    "k_{\\rm{constant}}(x,x') = {\\rm constant}\n",
    "\\end{equation}\n",
    "This specifies a constant amount of noise or variance, independent of the actual data points, and will be very useful in the next section."
   ]
  },
  {
   "cell_type": "markdown",
   "metadata": {
    "deletable": true,
    "editable": true
   },
   "source": [
    "#### Error propagation\n",
    "\n",
    "What happens if there are error bars on the data, and we add some disperison?"
   ]
  },
  {
   "cell_type": "code",
   "execution_count": 18,
   "metadata": {
    "collapsed": false,
    "deletable": true,
    "editable": true
   },
   "outputs": [
    {
     "data": {
      "text/plain": [
       "<matplotlib.text.Text at 0x121b85a90>"
      ]
     },
     "execution_count": 18,
     "metadata": {},
     "output_type": "execute_result"
    },
    {
     "data": {
      "image/png": "[encoded data removed]",
      "text/plain": [
       "<matplotlib.figure.Figure at 0x121f805f8>"
      ]
     },
     "metadata": {},
     "output_type": "display_data"
    }
   ],
   "source": [
    "n_points=10\n",
    "y_complex = np.zeros(n_points)\n",
    "y_complex_sigma = np.zeros(n_points)\n",
    "sigma=0.1\n",
    "for i in range(0,n_points):\n",
    "    y_complex[i] = model_complex(x_complex[i],params)+random.gauss(0,sigma)\n",
    "    y_complex_sigma[i] = sigma\n",
    "\n",
    "# make sure figures appear inline in Ipython Notebook\n",
    "%matplotlib inline\n",
    "plt.subplot(1,1,1)\n",
    "\n",
    "h0 = plt.errorbar(x_complex,y_complex,yerr=y_complex_sigma,linestyle='None',marker='.')\n",
    "\n",
    "plt.ylabel('y',fontsize=lab_fontsize)\n",
    "plt.xlabel('x',fontsize=lab_fontsize)"
   ]
  },
  {
   "cell_type": "markdown",
   "metadata": {
    "deletable": true,
    "editable": true
   },
   "source": [
    "We can use a [WhiteKernel](http://scikit-learn.org/stable/modules/generated/sklearn.gaussian_process.kernels.WhiteKernel.html) with a constant noise specified by the error, to add an extra variance term to the kernel. In the scikit-learn package however, this is easily spcified using the *alpha* parameter."
   ]
  },
  {
   "cell_type": "code",
   "execution_count": 19,
   "metadata": {
    "collapsed": false,
    "deletable": true,
    "editable": true
   },
   "outputs": [],
   "source": [
    "kernel = kernels.RBF(length_scale=2.0, length_scale_bounds=(0.1, 10.0))\n",
    "\n",
    "gp = GaussianProcessRegressor(kernel=kernel,alpha=y_complex_sigma**2)\n",
    "\n",
    "xprime = np.atleast_2d(x_complex).T\n",
    "yprime = np.atleast_2d(y_complex).T\n",
    "gp.fit(xprime, yprime)\n",
    "xplot_prime = np.atleast_2d(x_out_complex).T\n",
    "y_pred, sigma_2 = gp.predict(x_out_complex[:, np.newaxis], return_std=True)\n",
    "\n",
    "y_pred = y_pred.flatten()"
   ]
  },
  {
   "cell_type": "markdown",
   "metadata": {
    "deletable": true,
    "editable": true
   },
   "source": [
    "Once again we can plot the outcome"
   ]
  },
  {
   "cell_type": "code",
   "execution_count": 20,
   "metadata": {
    "collapsed": false,
    "deletable": true,
    "editable": true
   },
   "outputs": [
    {
     "name": "stdout",
     "output_type": "stream",
     "text": [
      "200 200 200 200\n"
     ]
    },
    {
     "data": {
      "text/plain": [
       "<matplotlib.text.Text at 0x121f83390>"
      ]
     },
     "execution_count": 20,
     "metadata": {},
     "output_type": "execute_result"
    },
    {
     "data": {
      "image/png": "[encoded data removed]",
      "text/plain": [
       "<matplotlib.figure.Figure at 0x121f80400>"
      ]
     },
     "metadata": {},
     "output_type": "display_data"
    }
   ],
   "source": [
    "# make sure figures appear inline in Ipython Notebook\n",
    "%matplotlib inline\n",
    "ax = plt.subplot(1,1,1)\n",
    "x_out_complex=np.arange(-1,1,0.01)\n",
    "\n",
    "y_out_complex=np.zeros(len(x_out_complex))\n",
    "for i in range(0,len(x_out_complex)):\n",
    "    y_out_complex[i]=model_complex(x_out_complex[i],params)\n",
    "    \n",
    "y_pred, sigma_2 = gp.predict(x_out_complex[:, np.newaxis], return_std=True)\n",
    "print(len(x_out_complex), len(sigma_2), len(y_out_complex), len(y_pred))\n",
    "y_pred = y_pred.flatten()\n",
    "h0 = plt.errorbar(x_complex,y_complex,yerr=y_complex_sigma,linestyle='None',marker='.',color='black')\n",
    "h1 = plt.plot(x_out_complex,y_pred,label='gaussian process')\n",
    "plt.fill_between(x_out_complex, y_pred - sigma_2, y_pred + sigma_2,alpha=0.5, color='k')\n",
    "\n",
    "plt.ylabel('y',fontsize=lab_fontsize)\n",
    "plt.xlabel('x',fontsize=lab_fontsize)"
   ]
  },
  {
   "cell_type": "markdown",
   "metadata": {
    "deletable": true,
    "editable": true
   },
   "source": [
    "As you can see, this widens the prediction region around the data points, bringing it in line with the variance of the data. "
   ]
  },
  {
   "cell_type": "markdown",
   "metadata": {
    "deletable": true,
    "editable": true
   },
   "source": [
    "### Kernel Regression\n",
    "\n",
    "Another non-linear regression method, that uses a smoothing of the nearest points, to estaimte $y$ at a new point $x$. The Nadaraya–Watson kernel regression approach is described as\n",
    "\n",
    "\\begin{equation}\n",
    "\\widehat{y}_h(x)=\\frac{\\sum_{i=1}^N K_h(x-x_i)y_i}{\\sum_{i=1}^N K_h(x-x_i)}\n",
    "\\end{equation}\n",
    "where $K$ is a kernel with a bandwidth $h$. The denominator is a weighting term with sum 1."
   ]
  },
  {
   "cell_type": "markdown",
   "metadata": {
    "deletable": true,
    "editable": true
   },
   "source": [
    "Here we apply [Kernel-Ridge Regression](http://scikit-learn.org/stable/modules/generated/sklearn.kernel_ridge.KernelRidge.html#sklearn.kernel_ridge.KernelRidge) to our data "
   ]
  },
  {
   "cell_type": "code",
   "execution_count": 22,
   "metadata": {
    "collapsed": false,
    "deletable": true,
    "editable": true
   },
   "outputs": [
    {
     "data": {
      "text/plain": [
       "GridSearchCV(cv=5, error_score='raise',\n",
       "       estimator=KernelRidge(alpha=1, coef0=1, degree=3, gamma=None, kernel='linear',\n",
       "      kernel_params=None),\n",
       "       fit_params=None, iid=True, n_jobs=1,\n",
       "       param_grid={'kernel': [RBF(length_scale=0.01), RBF(length_scale=0.01), RBF(length_scale=0.01), RBF(length_scale=0.01), RBF(length_scale=0.01), RBF(length_scale=0.01), RBF(length_scale=0.01), RBF(length_scale=0.01), RBF(length_scale=0.01), RBF(length_scale=0.01), RBF(length_scale=0.0278), RBF(length_...(length_scale=100), RBF(length_scale=100), RBF(length_scale=100)], 'alpha': [1.0, 0.1, 0.01, 0.001]},\n",
       "       pre_dispatch='2*n_jobs', refit=True, return_train_score='warn',\n",
       "       scoring=None, verbose=0)"
      ]
     },
     "execution_count": 22,
     "metadata": {},
     "output_type": "execute_result"
    }
   ],
   "source": [
    "from sklearn.kernel_ridge import KernelRidge\n",
    "from sklearn.gaussian_process.kernels import WhiteKernel, ExpSineSquared\n",
    "from sklearn.model_selection import GridSearchCV\n",
    "# Fit KernelRidge with parameter selection based on 5-fold cross validation\n",
    "param_grid = {\"alpha\": [1e0, 1e-1, 1e-2, 1e-3],\n",
    "              \"kernel\": [kernels.RBF(l, p)\n",
    "                         for l in np.logspace(-2, 2, 10)\n",
    "                         for p in np.logspace(0, 2, 10)]}\n",
    "kr = GridSearchCV(KernelRidge(), cv=5, param_grid=param_grid)\n",
    "\n",
    "kr.fit(xprime, yprime)\n"
   ]
  },
  {
   "cell_type": "code",
   "execution_count": 23,
   "metadata": {
    "collapsed": true,
    "deletable": true,
    "editable": true
   },
   "outputs": [],
   "source": [
    "y_krr = kr.predict(x_out_complex[:, np.newaxis])"
   ]
  },
  {
   "cell_type": "code",
   "execution_count": 25,
   "metadata": {
    "collapsed": false,
    "deletable": true,
    "editable": true
   },
   "outputs": [
    {
     "data": {
      "text/plain": [
       "<matplotlib.text.Text at 0x122831518>"
      ]
     },
     "execution_count": 25,
     "metadata": {},
     "output_type": "execute_result"
    },
    {
     "data": {
      "image/png": "[encoded data removed]",
      "text/plain": [
       "<matplotlib.figure.Figure at 0x121f3d668>"
      ]
     },
     "metadata": {},
     "output_type": "display_data"
    }
   ],
   "source": [
    "# make sure figures appear inline in Ipython Notebook\n",
    "%matplotlib inline\n",
    "ax = plt.subplot(1,1,1)\n",
    "h0 = plt.errorbar(x_complex,y_complex,yerr=y_complex_sigma,linestyle='None',marker='.',color='black')\n",
    "h1 = plt.plot(x_out_complex,y_pred,label='gaussian process')\n",
    "h2 = plt.plot(x_out_complex,y_krr,label='Kernel Ridge Regression')\n",
    "plt.fill_between(x_out_complex, y_pred - sigma_2, y_pred + sigma_2,alpha=0.5, color='k')\n",
    "handles, labels = ax.get_legend_handles_labels()\n",
    "plt.legend(handles=handles,frameon=False,loc=4)\n",
    "plt.ylabel('y',fontsize=lab_fontsize)\n",
    "plt.xlabel('x',fontsize=lab_fontsize)"
   ]
  },
  {
   "cell_type": "code",
   "execution_count": null,
   "metadata": {
    "collapsed": true,
    "deletable": true,
    "editable": true
   },
   "outputs": [],
   "source": []
  }
 ],
 "metadata": {
  "kernelspec": {
   "display_name": "Python 3",
   "language": "python",
   "name": "python3"
  },
  "language_info": {
   "codemirror_mode": {
    "name": "ipython",
    "version": 3
   },
   "file_extension": ".py",
   "mimetype": "text/x-python",
   "name": "python",
   "nbconvert_exporter": "python",
   "pygments_lexer": "ipython3",
   "version": "3.5.2"
  }
 },
 "nbformat": 4,
 "nbformat_minor": 2
}
